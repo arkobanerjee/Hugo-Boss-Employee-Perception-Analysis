{
 "cells": [
  {
   "cell_type": "markdown",
   "metadata": {},
   "source": [
    "# Mapping Departments and Seniority\n",
    "-------------------\n",
    "\n",
    "> <i>Description: \n",
    "In this notebook, we categorize Departments and Seniority levels according to the classifications outlined in the slides. Department categorization was done using specific keywords. For the Kununu dataset, categorizing Seniority was straightforward due to well-defined labels. However, for the Glassdoor dataset, we utilized the GPT-4O mini model API to determine the appropriate seniority group for each position title.</i>\n",
    "\n",
    "\n",
    "Input Files: \n",
    "1) Glassdoor_reviews_gathered.csv\n",
    "2) Kununu_reviews_gathered.csv\n",
    "\n",
    "\n",
    "\n",
    "Output:\n",
    "1) departments_seniority.csv"
   ]
  },
  {
   "cell_type": "code",
   "execution_count": 2,
   "metadata": {},
   "outputs": [],
   "source": [
    "import pandas as pd\n",
    "import numpy as np\n",
    "import matplotlib\n",
    "import matplotlib.pyplot as plt\n",
    "import seaborn as sns\n",
    "from openai import OpenAI\n",
    "import pandas as pd"
   ]
  },
  {
   "cell_type": "markdown",
   "metadata": {},
   "source": [
    "### kununu\n"
   ]
  },
  {
   "cell_type": "code",
   "execution_count": 3,
   "metadata": {},
   "outputs": [],
   "source": [
    "df1 = pd.read_csv(\"../Initial_data/Kununu_reviews_gathered.csv\")"
   ]
  },
  {
   "cell_type": "code",
   "execution_count": 4,
   "metadata": {},
   "outputs": [
    {
     "name": "stdout",
     "output_type": "stream",
     "text": [
      "['procurement' 'logistic' 'operations' 'sales' 'controlling' 'legal' nan\n",
      " 'recruiting' 'it' 'administration' 'other' 'design' 'product'\n",
      " 'communication' 'research' 'management']\n"
     ]
    }
   ],
   "source": [
    "print(df1['department'].unique())"
   ]
  },
  {
   "cell_type": "code",
   "execution_count": 7,
   "metadata": {},
   "outputs": [
    {
     "name": "stdout",
     "output_type": "stream",
     "text": [
      "sales             89\n",
      "it                77\n",
      "other             58\n",
      "recruiting        44\n",
      "design            40\n",
      "procurement       35\n",
      "administration    35\n",
      "logistic          33\n",
      "product           32\n",
      "operations        18\n",
      "controlling       17\n",
      "communication     17\n",
      "research          13\n",
      "legal             11\n",
      "management         3\n",
      "Name: department, dtype: int64\n"
     ]
    }
   ],
   "source": [
    "def count_job_category(df1):\n",
    "    return df1['department'].value_counts()\n",
    "\n",
    "counts = count_job_category(df1)\n",
    "\n",
    "print(counts)"
   ]
  },
  {
   "cell_type": "code",
   "execution_count": 8,
   "metadata": {},
   "outputs": [
    {
     "name": "stdout",
     "output_type": "stream",
     "text": [
      "      department business_function_department\n",
      "0    procurement                    Corporate\n",
      "1       logistic                    Logistics\n",
      "2     operations                    Logistics\n",
      "3          sales                       Retail\n",
      "4    controlling                    Corporate\n",
      "..           ...                          ...\n",
      "602        sales                       Retail\n",
      "603           it                    Corporate\n",
      "604        other                        Other\n",
      "605          NaN                        Other\n",
      "606          NaN                        Other\n",
      "\n",
      "[607 rows x 2 columns]\n"
     ]
    }
   ],
   "source": [
    "# Mapping departments\n",
    "def map_department_to_function(department):\n",
    "    corporate_departments = [\n",
    "        'procurement', 'controlling', 'legal', 'recruiting', 'it', 'administration', \n",
    "        'design', 'product', 'communication', 'research', 'management'\n",
    "    ]\n",
    "    retail_departments = ['sales']\n",
    "    logistics_departments = ['logistic', 'operations']\n",
    "    \n",
    "    if department in corporate_departments:\n",
    "        return 'Corporate'\n",
    "    elif department in retail_departments:\n",
    "        return 'Retail'\n",
    "    elif department in logistics_departments:\n",
    "        return 'Logistics'\n",
    "    else:\n",
    "        return 'Other'  \n",
    "\n",
    "df1['business_function_department'] = df1['department'].apply(map_department_to_function)\n",
    "\n",
    "print(df1[['department', 'business_function_department']])"
   ]
  },
  {
   "cell_type": "code",
   "execution_count": 10,
   "metadata": {},
   "outputs": [
    {
     "name": "stdout",
     "output_type": "stream",
     "text": [
      "Corporate    324\n",
      "Other        143\n",
      "Retail        89\n",
      "Logistics     51\n",
      "Name: business_function_department, dtype: int64\n"
     ]
    }
   ],
   "source": [
    "def count_job_category(df):\n",
    "    return df1['business_function_department'].value_counts()\n",
    "\n",
    "business_function_department_counts = count_job_category(df1)\n",
    "\n",
    "print(business_function_department_counts)"
   ]
  },
  {
   "cell_type": "code",
   "execution_count": 11,
   "metadata": {},
   "outputs": [
    {
     "name": "stdout",
     "output_type": "stream",
     "text": [
      "['employee' 'apprentice' 'contractor' 'manager' 'student' nan 'intern'\n",
      " 'freelancer']\n"
     ]
    }
   ],
   "source": [
    "print(df1['position'].unique())"
   ]
  },
  {
   "cell_type": "code",
   "execution_count": 40,
   "metadata": {},
   "outputs": [
    {
     "data": {
      "text/plain": [
       "employee    352\n",
       "manager     123\n",
       "Junior       82\n",
       "other        50\n",
       "Name: cleaned_position, dtype: int64"
      ]
     },
     "execution_count": 40,
     "metadata": {},
     "output_type": "execute_result"
    }
   ],
   "source": [
    "# mapping positions\n",
    "def position_indexer(pos):\n",
    "     if pos == 'intern' or pos == 'student' or pos == 'apprentice':\n",
    "          return 'Junior'\n",
    "     elif pos == 'employee':\n",
    "          return 'employee'\n",
    "     elif pos == 'manager':\n",
    "          return 'manager'\n",
    "     else:\n",
    "          return 'other'\n",
    "     \n",
    "df1['cleaned_position'] = df1['position'].apply(position_indexer)\n",
    "df1['cleaned_position'].value_counts(dropna=False)"
   ]
  },
  {
   "cell_type": "markdown",
   "metadata": {},
   "source": [
    "### glassdoor"
   ]
  },
  {
   "cell_type": "code",
   "execution_count": 13,
   "metadata": {},
   "outputs": [],
   "source": [
    "df2 = pd.read_csv(\"../Initial_data/Glassdoor_reviews_gathered.csv\")"
   ]
  },
  {
   "cell_type": "code",
   "execution_count": 14,
   "metadata": {},
   "outputs": [],
   "source": [
    "# Define expanded keyword lists for each category\n",
    "corporate_keywords = [\n",
    "    # English Keywords (Corporate)\n",
    "    \"Manager\", \"Director\", \"Vice President\", \"President\", \"CEO\", \"CFO\", \"COO\", \"Chief\", \n",
    "    \"Executive\", \"Global\", \"Corporate\", \"Business Analyst\", \"Financial Analyst\", \n",
    "    \"Business Partner\", \"Business Development\", \"Strategy\", \"Strategic\", \"Marketing\", \n",
    "    \"Communications\", \"Human Resources\", \"HR\", \"Legal\", \"Compliance\", \"Procurement\", \n",
    "    \"Sustainability\", \"Product Manager\", \"Product Owner\", \"Project Manager\", \"Consultant\", \n",
    "    \"Business Operations\", \"Content Production\", \"Graphic Design\", \"UX/UI\", \"SEO\", \n",
    "    \"Performance Marketing\", \"Creative\", \"Digital\", \"Brand\", \"Social Media\", \"Event Manager\", \n",
    "    \"Franchise Manager\", \"Talent Acquisition\", \"Learning & Development\", \"eCommerce\", \n",
    "    \"Customer Experience\", \"CRM\", \"Training\", \"Planning\", \"Buyer\", \"Data Analyst\", \n",
    "    \"Risk Management\", \"Corporate Affairs\", \"Merchandising\", \"Finance\", \"Tax\", \"Audit\", \n",
    "    \"Real Estate\", \"Architecture\", \"Supply Chain\", \"Corporate\", \"Marketing\", \n",
    "    \"Administrative Assistant\", \"Senior Software Developer\", \"Product Developer\", \"Designer\", \n",
    "    \"Systems Administrator\", \"Technical Developer\", \"Software Engineer\", \"IT Analytics\", \n",
    "    \"Wholesale Administrative\", \"Engineer\", \"Quality Assurance Engineer\", \"Merchandise Allocator\",\n",
    "    \"Business Controller\", \"Customer Care Specialist\", \"Senior Visual Merchandiser\", \n",
    "    \"Fashion Designer\", \"Assistant Fashion Designer\", \"SAP Specialist\", \"Junior Designer\", \n",
    "    \"Designer\", \"PR Assistant\", \"Data Scientist\", \"Financial/Business Controller\", \n",
    "    \"Wholesale Sales Intern\", \"General Manger\", \"Controlling\", \"CTPD\", \"IT\", \"Project Manager\",\n",
    "    \n",
    "    # German Keywords (Corporate)\n",
    "    \"Geschäftsführer\", \"Bereichsleiter\", \"Abteilungsleiter\", \"Manager\", \"Direktor\", \n",
    "    \"Berater\", \"Analyst\", \"Unternehmensstrategie\", \"Marketing\", \"Personalwesen\", \n",
    "    \"Rechtsabteilung\", \"Nachhaltigkeit\", \"Produktmanager\", \"Projektleiter\", \"Kundenerfahrung\", \n",
    "    \"Markenstrategie\", \"Personalentwicklung\", \"Finanz\", \"Rechnungswesen\", \"Compliance\", \n",
    "    \"Einkauf\", \"Content-Produktion\", \"Digital\",\n",
    "    \n",
    "    # French Keywords (Corporate)\n",
    "    \"Directeur\", \"Manager\", \"Responsable\", \"Consultant\", \"Chef\", \"Stratégie\", \"Analyste\", \n",
    "    \"Marketing\", \"Ressources Humaines\", \"Finance\", \"Audit\", \"Comptabilité\", \n",
    "    \"Développement des affaires\", \"Communications\", \"Juridique\", \"Conformité\", \"Achats\", \n",
    "    \"Gestion des risques\", \"Apprentissage\", \"Acquisition de talents\", \"Formation\", \n",
    "    \"Chef de produit\", \"Gestionnaire de projet\", \"Production de contenu\", \"eCommerce\", \n",
    "    \"Expérience client\",\n",
    "    \n",
    "    # Spanish Keywords (Corporate)\n",
    "    \"Gerente\", \"Director\", \"Responsable\", \"Consultor\", \"Estrategia\", \"Analista\", \n",
    "    \"Recursos Humanos\", \"Cumplimiento\", \"Marketing\", \"Finanzas\", \"Compras\", \n",
    "    \"Desarrollo de Negocios\", \"Comunicaciones\", \"Legal\", \"Producción de Contenidos\", \n",
    "    \"Cadenas de Suministro\", \"Arquitectura\", \"Planificación\", \"Comercio electrónico\", \n",
    "    \"Experiencia del Cliente\", \"Estrategia de marca\"\n",
    "]\n",
    "\n",
    "retail_keywords = [\n",
    "    # English Keywords (Retail)\n",
    "    \"Store Manager\", \"Retail Manager\", \"Sales Associate\", \"Cashier\", \"Customer Service\", \n",
    "    \"Retail Operations\", \"Assistant Store Manager\", \"Department Manager\", \"Area Manager\", \n",
    "    \"Retail\", \"Retail Sales\", \"Salesperson\", \"Sales Advisor\", \"Tailor\", \"Shop Supervisor\", \n",
    "    \"Supervisor\", \"Floor Manager\", \"Team Leader\", \"Retail Sales Assistant\", \"Sale\", \n",
    "    \"Suit Specialist\", \"Conseiller Vente\", \"Conseillere\", \"Sales Specialist\", \"Vendeuse\", \n",
    "    \"Sales Representative\", \"Key Holder\", \"Visual Merchandiser\", \"Conseill re De Vente\", \n",
    "    \"Store Assistant\", \"Salesman\", \"Sale Assistant\", \"Conseiller Client\", \"Wholesale Assistant\",\n",
    "    \"Host\", \"Team Member\", \"Fashion\", \"Customer Advisor\", \"Seller\", \"Personal Stylist\", \n",
    "    \"Sales Lead\", \"Top Seller\", \"Sales Leader\", \"Retail Sales Assistant\", \"Cashier\", \n",
    "    \n",
    "    # German Keywords (Retail)\n",
    "    \"Filialleiter\", \"Verkäufer\", \"Einzelhandel\", \"Kassierer\", \"Ladenleiter\", \n",
    "    \"Kundendienst\", \"Abteilungsleiter\", \"Verkaufsberater\", \"Teamleiter\", \"Ladenaufsicht\", \n",
    "    \"Einzelhandelsmanagement\",\n",
    "    \n",
    "    # French Keywords (Retail)\n",
    "    \"Responsable de Magasin\", \"Vendeur\", \"Caisse\", \"Assistant Commercial\", \n",
    "    \"Conseiller de Vente\", \"Superviseur\", \"Gestion de Magasin\", \"Service Clients\", \n",
    "    \"Magasinier\", \"Manager de Magasin\", \"Responsable de Rayon\", \"Chef de Magasin\", \n",
    "    \"Commis de Vente\",\n",
    "    \n",
    "    # Spanish Keywords (Retail)\n",
    "    \"Gerente de Tienda\", \"Cajero\", \"Asistente de Ventas\", \"Vendedor\", \n",
    "    \"Asociado de Ventas\", \"Supervisor de Tienda\", \"Jefe de Departamento\", \n",
    "    \"Servicio al Cliente\", \"Gestión de Ventas al por Menor\", \"Encargado de tienda\"\n",
    "]\n",
    "\n",
    "logistics_keywords = [\n",
    "    # English Keywords (Logistics)\n",
    "    \"Warehouse Manager\", \"Warehouse Worker\", \"Logistics\", \"Logistics Manager\", \n",
    "    \"Supply Chain\", \"Operations\", \"Transportation\", \"Customs\", \"Logistics Coordinator\", \n",
    "    \"Inventory\", \"Planner\", \"Warehouse Supervisor\", \"Distribution\", \"Shipping\", \n",
    "    \"Technician\", \"Transport\", \"Freight\", \"Fleet\", \"Driver\", \"Logistics Planner\", \n",
    "    \"Operations Manager\", \"Logistics Specialist\", \"Logistics Operations\", \n",
    "    \"Warehouse Associate\", \"Dispatch\", \"Stockroom Assistant\", \"Order Picker\", \n",
    "    \"Stock Controller\", \"Picker\", \"Production Engineer\", \"Stock Assistant\", \n",
    "    \"Stock Associate\", \"Stockiste\", \"Inventory\", \"Logistics Planner\", \n",
    "    \n",
    "    # German Keywords (Logistics)\n",
    "    \"Lagerleiter\", \"Lagerarbeiter\", \"Logistik\", \"Logistikleiter\", \"Supply Chain\", \n",
    "    \"Transport\", \"Zoll\", \"Logistikkoordinator\", \"Fracht\", \"Versand\", \"Techniker\", \n",
    "    \"Disponent\", \"Flottenmanager\", \"Transportplaner\", \"Lager\", \"Manutentionnaire\", \n",
    "    \n",
    "    # French Keywords (Logistics)\n",
    "    \"Responsable Logistique\", \"Magasinier\", \"Transport\", \"Douanes\", \n",
    "    \"Planificateur Logistique\", \"Chauffeur\", \"Technicien Logistique\", \n",
    "    \"Gestionnaire de Stock\", \"Expédition\", \"Flotte\", \"Distribution\", \n",
    "    \"Coordination Logistique\", \"Stockiste\", \n",
    "    \n",
    "    # Spanish Keywords (Logistics)\n",
    "    \"Gerente de Logística\", \"Almacén\", \"Técnico en Logística\", \"Transporte\", \n",
    "    \"Aduanas\", \"Coordinador de Logística\", \"Planificador de Logística\", \n",
    "    \"Conductor\", \"Supervisor de Almacén\", \"Despacho\", \"Cadena de Suministro\", \n",
    "    \"Envíos\", \"Inventario\", \"Distribución\"\n",
    "]\n",
    "\n",
    "# Function to map job categories\n",
    "def map_job_category(job_title):\n",
    "    if pd.isna(job_title):\n",
    "        return np.nan  \n",
    "    job_title_lower = job_title.lower() \n",
    "    \n",
    "    if any(keyword.lower() in job_title_lower for keyword in corporate_keywords):\n",
    "        return \"Corporate\"\n",
    "    \n",
    "    elif any(keyword.lower() in job_title_lower for keyword in retail_keywords):\n",
    "        return \"Retail\"\n",
    "    \n",
    "    elif any(keyword.lower() in job_title_lower for keyword in logistics_keywords):\n",
    "        return \"Logistics\"\n",
    "    \n",
    "    return \"Other\"\n",
    "\n",
    "# Apply the function to the 'jobTitle.text' column to create 'business_function_department' column\n",
    "df2['business_function_department'] = df2['jobTitle.text'].apply(map_job_category)"
   ]
  },
  {
   "cell_type": "code",
   "execution_count": 15,
   "metadata": {},
   "outputs": [
    {
     "name": "stdout",
     "output_type": "stream",
     "text": [
      "Retail       664\n",
      "Corporate    513\n",
      "Other        257\n",
      "Logistics     38\n",
      "Name: business_function_department, dtype: int64\n"
     ]
    }
   ],
   "source": [
    "def count_job_category(df):\n",
    "    return df2['business_function_department'].value_counts()\n",
    "\n",
    "business_function_department_counts = count_job_category(df2)\n",
    "\n",
    "print(business_function_department_counts)"
   ]
  },
  {
   "cell_type": "code",
   "execution_count": 17,
   "metadata": {},
   "outputs": [],
   "source": [
    "# using GPT 4O-Mini to get the position names (managers, Employees, ..)\n",
    "\n",
    "API_key = \"YOUR_API_KEY\"\n",
    "for i in range(len(df2)):\n",
    "     # Set up your OpenAI API key\n",
    "     client = OpenAI(api_key=API_key)\n",
    "\n",
    "\n",
    "     completion = client.chat.completions.create(\n",
    "     model=\"gpt-4o-mini\",\n",
    "     messages=[\n",
    "          {\"role\": \"system\", \"content\": \"You are a helpful assistant.you only out put one of the categories based on the job title I give you, nothing else.Categories: manager , employee , intern , student , aprentice , other\"},\n",
    "          {\n",
    "               \"role\": \"user\",\n",
    "               \"content\": str(df2['jobTitle.text'][i])\n",
    "          }\n",
    "     ]\n",
    "     )\n",
    "     df2.loc[i, 'position'] = completion.choices[0].message.content\n",
    "\n",
    "\n",
    "\n"
   ]
  },
  {
   "cell_type": "code",
   "execution_count": 19,
   "metadata": {},
   "outputs": [
    {
     "data": {
      "text/plain": [
       "employee      913\n",
       "other         413\n",
       "manager       375\n",
       "intern        139\n",
       "student         8\n",
       "apprentice      4\n",
       "Name: position, dtype: int64"
      ]
     },
     "execution_count": 19,
     "metadata": {},
     "output_type": "execute_result"
    }
   ],
   "source": [
    "df2['position'].value_counts(dropna=False)"
   ]
  },
  {
   "cell_type": "code",
   "execution_count": 41,
   "metadata": {},
   "outputs": [
    {
     "data": {
      "text/plain": [
       "employee    913\n",
       "other       413\n",
       "manager     375\n",
       "Junior      151\n",
       "Name: cleaned_position, dtype: int64"
      ]
     },
     "execution_count": 41,
     "metadata": {},
     "output_type": "execute_result"
    }
   ],
   "source": [
    "# cleaning the positions\n",
    "df2['cleaned_position'] = df2['position'].apply(position_indexer)\n",
    "df2['cleaned_position'].value_counts(dropna=False)"
   ]
  },
  {
   "cell_type": "code",
   "execution_count": 49,
   "metadata": {},
   "outputs": [
    {
     "name": "stdout",
     "output_type": "stream",
     "text": [
      "2459\n",
      "<class 'pandas.core.frame.DataFrame'>\n",
      "Int64Index: 2459 entries, 0 to 1851\n",
      "Data columns (total 4 columns):\n",
      " #   Column                        Non-Null Count  Dtype \n",
      "---  ------                        --------------  ----- \n",
      " 0   reviewId                      2459 non-null   object\n",
      " 1   reviewDateTime                2459 non-null   object\n",
      " 2   cleaned_position              2459 non-null   object\n",
      " 3   business_function_department  2459 non-null   object\n",
      "dtypes: object(4)\n",
      "memory usage: 96.1+ KB\n",
      "None\n"
     ]
    },
    {
     "data": {
      "text/html": [
       "<div>\n",
       "<style scoped>\n",
       "    .dataframe tbody tr th:only-of-type {\n",
       "        vertical-align: middle;\n",
       "    }\n",
       "\n",
       "    .dataframe tbody tr th {\n",
       "        vertical-align: top;\n",
       "    }\n",
       "\n",
       "    .dataframe thead th {\n",
       "        text-align: right;\n",
       "    }\n",
       "</style>\n",
       "<table border=\"1\" class=\"dataframe\">\n",
       "  <thead>\n",
       "    <tr style=\"text-align: right;\">\n",
       "      <th></th>\n",
       "      <th>reviewId</th>\n",
       "      <th>reviewDateTime</th>\n",
       "      <th>cleaned_position</th>\n",
       "      <th>business_function_department</th>\n",
       "    </tr>\n",
       "  </thead>\n",
       "  <tbody>\n",
       "    <tr>\n",
       "      <th>0</th>\n",
       "      <td>ca6e64a6-c45e-4b04-9d85-8ff633cbe289</td>\n",
       "      <td>2024-09-21T00:00:00+00:00</td>\n",
       "      <td>employee</td>\n",
       "      <td>Corporate</td>\n",
       "    </tr>\n",
       "    <tr>\n",
       "      <th>1</th>\n",
       "      <td>b11b7978-d151-4249-a747-3ba7501e1bad</td>\n",
       "      <td>2024-09-05T00:00:00+00:00</td>\n",
       "      <td>employee</td>\n",
       "      <td>Logistics</td>\n",
       "    </tr>\n",
       "    <tr>\n",
       "      <th>2</th>\n",
       "      <td>fe76c408-b3a7-4e8d-be08-4bb67d0868da</td>\n",
       "      <td>2024-08-30T00:00:00+00:00</td>\n",
       "      <td>Junior</td>\n",
       "      <td>Logistics</td>\n",
       "    </tr>\n",
       "    <tr>\n",
       "      <th>3</th>\n",
       "      <td>fdd82a74-7524-4567-9844-1e3eed861f8c</td>\n",
       "      <td>2024-08-17T00:00:00+00:00</td>\n",
       "      <td>other</td>\n",
       "      <td>Retail</td>\n",
       "    </tr>\n",
       "    <tr>\n",
       "      <th>4</th>\n",
       "      <td>977c452c-f91c-4f2f-ae7d-b26e045eaddb</td>\n",
       "      <td>2024-08-01T00:00:00+00:00</td>\n",
       "      <td>employee</td>\n",
       "      <td>Corporate</td>\n",
       "    </tr>\n",
       "  </tbody>\n",
       "</table>\n",
       "</div>"
      ],
      "text/plain": [
       "                               reviewId             reviewDateTime  \\\n",
       "0  ca6e64a6-c45e-4b04-9d85-8ff633cbe289  2024-09-21T00:00:00+00:00   \n",
       "1  b11b7978-d151-4249-a747-3ba7501e1bad  2024-09-05T00:00:00+00:00   \n",
       "2  fe76c408-b3a7-4e8d-be08-4bb67d0868da  2024-08-30T00:00:00+00:00   \n",
       "3  fdd82a74-7524-4567-9844-1e3eed861f8c  2024-08-17T00:00:00+00:00   \n",
       "4  977c452c-f91c-4f2f-ae7d-b26e045eaddb  2024-08-01T00:00:00+00:00   \n",
       "\n",
       "  cleaned_position business_function_department  \n",
       "0         employee                    Corporate  \n",
       "1         employee                    Logistics  \n",
       "2           Junior                    Logistics  \n",
       "3            other                       Retail  \n",
       "4         employee                    Corporate  "
      ]
     },
     "execution_count": 49,
     "metadata": {},
     "output_type": "execute_result"
    }
   ],
   "source": [
    "# Merging\n",
    "df1_renamed = df1.rename(columns={\n",
    "    'uuid': 'reviewId',\n",
    "    'createdAt': 'reviewDateTime',\n",
    "})\n",
    "\n",
    "df1_needed = df1_renamed[['reviewId', 'reviewDateTime', 'cleaned_position', 'business_function_department']]\n",
    "df2_needed = df2[['reviewId', 'reviewDateTime', 'cleaned_position', 'business_function_department']]\n",
    "\n",
    "df_merged = pd.concat([df1_needed, df2_needed], axis=0)\n",
    "df_merged['business_function_department'] = df_merged['business_function_department'].fillna('other')\n",
    "print(len(df_merged))\n",
    "print(df_merged.info())\n",
    "df_merged.head()"
   ]
  },
  {
   "cell_type": "code",
   "execution_count": 50,
   "metadata": {},
   "outputs": [],
   "source": [
    "df_merged.to_csv('departments_seniority.csv')"
   ]
  },
  {
   "cell_type": "markdown",
   "metadata": {},
   "source": [
    "### End of Notebook"
   ]
  }
 ],
 "metadata": {
  "kernelspec": {
   "display_name": "base",
   "language": "python",
   "name": "python3"
  },
  "language_info": {
   "codemirror_mode": {
    "name": "ipython",
    "version": 3
   },
   "file_extension": ".py",
   "mimetype": "text/x-python",
   "name": "python",
   "nbconvert_exporter": "python",
   "pygments_lexer": "ipython3",
   "version": "3.11.5"
  }
 },
 "nbformat": 4,
 "nbformat_minor": 2
}
