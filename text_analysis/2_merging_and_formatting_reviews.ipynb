{
 "cells": [
  {
   "cell_type": "markdown",
   "metadata": {},
   "source": [
    "# Reading in Kununu and Glassdoor reviews, Formatting and Appending \n",
    "------------------\n",
    "> <i>Description: In this notebook, We are formatting and Concatinating Kununu and Glassdoor translated data so that we can use it for text classification and sentiment determination.</i>\n",
    "\n",
    "Input Files: \n",
    "1) Kununu_reviews_translated.xlsx\n",
    "2) Glassdoor_reviews_translated.xlsx\n",
    "\n",
    "Output:\n",
    "1) reviews_merged.csv\n",
    "\n",
    "We map the position and department into common buckets for Kununu and Glassdoor:\n",
    "\n",
    "Positions:\n",
    "\n",
    "* Employee\n",
    "\n",
    "* Apprentice\n",
    "* Contractor\n",
    "* Manager\n",
    "* Student\n",
    "* Intern\n",
    "* Freelancer\n",
    "\n",
    "Departments:\n",
    "\n",
    "* Corporate\n",
    "\n",
    "* Retail\n",
    "* Logistics\n",
    "\n",
    "\n",
    "\n"
   ]
  },
  {
   "cell_type": "code",
   "execution_count": 87,
   "metadata": {},
   "outputs": [],
   "source": [
    "import pandas as pd\n",
    "import ast\n",
    "import numpy as np"
   ]
  },
  {
   "cell_type": "markdown",
   "metadata": {},
   "source": [
    "### Reading translated Kununu and glassdoor, Country mapping, formatting Date and creating a feature called year for later"
   ]
  },
  {
   "cell_type": "code",
   "execution_count": 88,
   "metadata": {},
   "outputs": [],
   "source": [
    "kununu = pd.read_excel('Kununu_reviews_translated_barbara.xlsx')\n",
    "glassdoor = pd.read_excel('Glassdoor_reviews_translated_barbara.xlsx')\n",
    "country = pd.read_csv('useTheCountry.csv')\n",
    "\n",
    "kununu = kununu.rename(columns={'createdAt': 'date'})\n",
    "kununu['date'] = pd.to_datetime(kununu['date'])\n",
    "kununu['year'] = kununu['date'].dt.year\n",
    "\n",
    "glassdoor['date'] = pd.to_datetime(glassdoor['reviewDateTime'], format= 'mixed')\n",
    "glassdoor['year'] = glassdoor['date'].dt.year"
   ]
  },
  {
   "cell_type": "markdown",
   "metadata": {},
   "source": [
    "### Deconstructing pros, cons and suggestions form Kununu file"
   ]
  },
  {
   "cell_type": "markdown",
   "metadata": {},
   "source": [
    "For Kununu: Positive, Negative and Suggestion were in dictionary inside feature text, we extract these components and make 3 different columns for each"
   ]
  },
  {
   "cell_type": "code",
   "execution_count": 89,
   "metadata": {},
   "outputs": [],
   "source": [
    "def extract_text_components(text_data):\n",
    "    positive_text = None\n",
    "    negative_text = None\n",
    "    suggestion_text = None\n",
    "    # converting string to list\n",
    "    text_data = ast.literal_eval(text_data)\n",
    "\n",
    "    if isinstance(text_data, list):\n",
    "        for component in text_data:\n",
    "            if component['id'] == 'positive':\n",
    "                positive_text = component['text']\n",
    "            elif component['id'] == 'negative':\n",
    "                negative_text = component['text']\n",
    "            elif component['id'] == 'suggestion':\n",
    "                suggestion_text = component['text']\n",
    "\n",
    "    return positive_text, negative_text, suggestion_text\n",
    "\n",
    "def extract_components_from_dataframe(df, column_name):\n",
    "    df['pros'] = df[column_name].apply(lambda x: extract_text_components(x)[0])\n",
    "    df['cons'] = df[column_name].apply(lambda x: extract_text_components(x)[1])\n",
    "    df['suggestion'] = df[column_name].apply(lambda x: extract_text_components(x)[2])\n",
    "    return df\n",
    "\n",
    "kununu = extract_components_from_dataframe(kununu, \"texts_translated\")"
   ]
  },
  {
   "cell_type": "markdown",
   "metadata": {},
   "source": [
    "### Mapping department and position ranking for Kununu"
   ]
  },
  {
   "cell_type": "markdown",
   "metadata": {},
   "source": [
    "Purpose for doing this is to streamline the data so that when we merge both Kununu and Glassdoor the features as well as data in them are in similar format."
   ]
  },
  {
   "cell_type": "code",
   "execution_count": null,
   "metadata": {},
   "outputs": [],
   "source": [
    "position_mapping = {\n",
    "    'employee': 1,\n",
    "    'apprentice': 2,\n",
    "    'contractor': 3,\n",
    "    'manager': 4,\n",
    "    'student': 5,\n",
    "    'intern': 6,\n",
    "    'freelancer': 7\n",
    "}\n",
    "\n",
    "kununu['position_code'] = kununu['position'].map(position_mapping)\n",
    "\n",
    "def map_department_to_function(department):\n",
    "    corporate_departments = [\n",
    "        'procurement', 'controlling', 'legal', 'recruiting', 'it', 'administration', \n",
    "        'design', 'product', 'communication', 'research', 'management'\n",
    "    ]\n",
    "    retail_departments = ['sales']\n",
    "    logistics_departments = ['logistic', 'operations']\n",
    "    \n",
    "    if department in corporate_departments:\n",
    "        return 'Corporate'\n",
    "    elif department in retail_departments:\n",
    "        return 'Retail'\n",
    "    elif department in logistics_departments:\n",
    "        return 'Logistics'\n",
    "    else:\n",
    "        return np.nan  \n",
    "\n",
    "kununu['department'] = kununu['department'].apply(map_department_to_function)"
   ]
  },
  {
   "cell_type": "markdown",
   "metadata": {},
   "source": [
    "### Mapping Departments and position ranking for Glassdoor"
   ]
  },
  {
   "cell_type": "markdown",
   "metadata": {},
   "source": [
    "Mapping all the different position into 7 different buckets so that it matches the format of Kununu. "
   ]
  },
  {
   "cell_type": "code",
   "execution_count": 90,
   "metadata": {},
   "outputs": [],
   "source": [
    "position_mapping = {\n",
    "    'employee': ['Sales Associate', 'Vendedor', 'Salesman', 'Retail Sales Assistant', 'Sales Consultant', 'Sales Representative', 'Sales Assistant'],\n",
    "    'apprentice': ['Stagista', 'Practicante', 'Jovem Aprendiz', 'Intern', 'Internship', 'Praktikant', 'Praktikantin', 'Estagiário'],\n",
    "    'contractor': ['Consultant', 'Technical Consultant', 'Expert IT Consultant'],\n",
    "    'manager': ['Manager', 'HR Manager', 'Project Manager', 'Store Manager', 'Sales Manager', 'Finance Manager', 'Team Leader'],\n",
    "    'student': ['Graduate Student', 'Working Student', 'Studentische Aushilfe'],\n",
    "    'intern': ['Intern', 'Internship', 'Marketing Intern', 'Finance Intern', 'Wholesale Intern', 'Product Design Intern'],\n",
    "    'freelancer': ['Freelancer', 'Contractor']\n",
    "}\n",
    "\n",
    "def map_position(title):\n",
    "    if pd.isna(title): \n",
    "        return np.nan\n",
    "    title = str(title)  \n",
    "    for position, keywords in position_mapping.items():\n",
    "        if any(keyword.lower() in title.lower() for keyword in keywords):\n",
    "            return position\n",
    "    return np.nan  \n",
    "\n",
    "glassdoor['position'] = glassdoor['jobTitle.text'].apply(map_position)\n",
    "\n",
    "position_mapping = {\n",
    "    'employee': 1,\n",
    "    'apprentice': 2,\n",
    "    'contractor': 3,\n",
    "    'manager': 4,\n",
    "    'student': 5,\n",
    "    'intern': 6,\n",
    "    'freelancer': 7\n",
    "}\n",
    "\n",
    "glassdoor['position_code'] = glassdoor['position'].map(position_mapping)"
   ]
  },
  {
   "cell_type": "markdown",
   "metadata": {},
   "source": [
    "### Mapping Departments for glassdoor"
   ]
  },
  {
   "cell_type": "code",
   "execution_count": 91,
   "metadata": {},
   "outputs": [],
   "source": [
    "corporate_keywords = [\n",
    "    # English Keywords\n",
    "    \"Manager\", \"Director\", \"Vice President\", \"President\", \"CEO\", \"CFO\", \"COO\", \"Chief\", \n",
    "    \"Executive\", \"Global\", \"Corporate\", \"Business Analyst\", \"Financial Analyst\", \n",
    "    \"Business Partner\", \"Business Development\", \"Strategy\", \"Strategic\", \"Marketing\", \n",
    "    \"Communications\", \"Human Resources\", \"HR\", \"Legal\", \"Compliance\", \"Procurement\", \n",
    "    \"Sustainability\", \"Product Manager\", \"Product Owner\", \"Project Manager\", \"Consultant\", \n",
    "    \"Business Operations\", \"Content Production\", \"Graphic Design\", \"UX/UI\", \"SEO\", \n",
    "    \"Performance Marketing\", \"Creative\", \"Digital\", \"Brand\", \"Social Media\", \"Event Manager\", \n",
    "    \"Franchise Manager\", \"Talent Acquisition\", \"Learning & Development\", \"eCommerce\", \n",
    "    \"Customer Experience\", \"CRM\", \"Training\", \"Planning\", \"Buyer\", \"Data Analyst\", \n",
    "    \"Risk Management\", \"Corporate Affairs\", \"Merchandising\", \"Finance\", \"Tax\", \"Audit\", \n",
    "    \"Real Estate\", \"Architecture\", \"Supply Chain\", \"Corporate\", \"Marketing\",\n",
    "    \n",
    "    # German Keywords (Corporate)\n",
    "    \"Geschäftsführer\", \"Bereichsleiter\", \"Abteilungsleiter\", \"Manager\", \"Direktor\", \n",
    "    \"Berater\", \"Analyst\", \"Unternehmensstrategie\", \"Marketing\", \"Personalwesen\", \n",
    "    \"Rechtsabteilung\", \"Nachhaltigkeit\", \"Produktmanager\", \"Projektleiter\", \"Kundenerfahrung\", \n",
    "    \"Markenstrategie\", \"Personalentwicklung\", \"Finanz\", \"Rechnungswesen\", \"Compliance\", \n",
    "    \"Einkauf\", \"Content-Produktion\", \"Digital\",\n",
    "    \n",
    "    # French Keywords (Corporate)\n",
    "    \"Directeur\", \"Manager\", \"Responsable\", \"Consultant\", \"Chef\", \"Stratégie\", \"Analyste\", \n",
    "    \"Marketing\", \"Ressources Humaines\", \"Finance\", \"Audit\", \"Comptabilité\", \n",
    "    \"Développement des affaires\", \"Communications\", \"Juridique\", \"Conformité\", \"Achats\", \n",
    "    \"Gestion des risques\", \"Apprentissage\", \"Acquisition de talents\", \"Formation\", \n",
    "    \"Chef de produit\", \"Gestionnaire de projet\", \"Production de contenu\", \"eCommerce\", \n",
    "    \"Expérience client\",\n",
    "    \n",
    "    # Spanish Keywords (Corporate)\n",
    "    \"Gerente\", \"Director\", \"Responsable\", \"Consultor\", \"Estrategia\", \"Analista\", \n",
    "    \"Recursos Humanos\", \"Cumplimiento\", \"Marketing\", \"Finanzas\", \"Compras\", \n",
    "    \"Desarrollo de Negocios\", \"Comunicaciones\", \"Legal\", \"Producción de Contenidos\", \n",
    "    \"Cadenas de Suministro\", \"Arquitectura\", \"Planificación\", \"Comercio electrónico\", \n",
    "    \"Experiencia del Cliente\", \"Estrategia de marca\"\n",
    "]\n",
    "\n",
    "retail_keywords = [\n",
    "    # English Keywords\n",
    "    \"Store Manager\", \"Retail Manager\", \"Sales Associate\", \"Cashier\", \"Customer Service\", \n",
    "    \"Retail Operations\", \"Assistant Store Manager\", \"Department Manager\", \"Area Manager\", \n",
    "    \"Retail\", \"Retail Sales\", \"Salesperson\", \"Sales Advisor\", \"Tailor\", \"Shop Supervisor\", \n",
    "    \"Supervisor\", \"Floor Manager\", \"Team Leader\", \"Retail Sales Assistant\", \"Sale\", \n",
    "    \"Retail\", \"Sales\", \"Selling\",\n",
    "    \n",
    "    # German Keywords (Retail)\n",
    "    \"Filialleiter\", \"Verkäufer\", \"Einzelhandel\", \"Kassierer\", \"Ladenleiter\", \n",
    "    \"Kundendienst\", \"Abteilungsleiter\", \"Verkaufsberater\", \"Teamleiter\", \"Ladenaufsicht\", \n",
    "    \"Einzelhandelsmanagement\",\n",
    "    \n",
    "    # French Keywords (Retail)\n",
    "    \"Responsable de Magasin\", \"Vendeur\", \"Caisse\", \"Assistant Commercial\", \n",
    "    \"Conseiller de Vente\", \"Superviseur\", \"Gestion de Magasin\", \"Service Clients\", \n",
    "    \"Magasinier\", \"Manager de Magasin\", \"Responsable de Rayon\", \"Chef de Magasin\", \n",
    "    \"Commis de Vente\",\n",
    "    \n",
    "    # Spanish Keywords (Retail)\n",
    "    \"Gerente de Tienda\", \"Cajero\", \"Asistente de Ventas\", \"Vendedor\", \n",
    "    \"Asociado de Ventas\", \"Supervisor de Tienda\", \"Jefe de Departamento\", \n",
    "    \"Servicio al Cliente\", \"Gestión de Ventas al por Menor\", \"Encargado de tienda\"\n",
    "]\n",
    "\n",
    "logistics_keywords = [\n",
    "    # English Keywords\n",
    "    \"Warehouse Manager\", \"Warehouse Worker\", \"Logistics\", \"Logistics Manager\", \n",
    "    \"Supply Chain\", \"Operations\", \"Transportation\", \"Customs\", \"Logistics Coordinator\", \n",
    "    \"Inventory\", \"Planner\", \"Warehouse Supervisor\", \"Distribution\", \"Shipping\", \n",
    "    \"Technician\", \"Transport\", \"Freight\", \"Fleet\", \"Driver\", \"Logistics Planner\", \n",
    "    \"Operations Manager\", \"Logistics Specialist\", \"Logistics Operations\", \n",
    "    \"Warehouse Associate\", \"Dispatch\",\n",
    "    \n",
    "    # German Keywords (Logistics)\n",
    "    \"Lagerleiter\", \"Lagerarbeiter\", \"Logistik\", \"Logistikleiter\", \"Supply Chain\", \n",
    "    \"Transport\", \"Zoll\", \"Logistikkoordinator\", \"Fracht\", \"Versand\", \"Techniker\", \n",
    "    \"Disponent\", \"Flottenmanager\", \"Transportplaner\", \"Lager\",\n",
    "    \n",
    "    # French Keywords (Logistics)\n",
    "    \"Responsable Logistique\", \"Magasinier\", \"Transport\", \"Douanes\", \n",
    "    \"Planificateur Logistique\", \"Chauffeur\", \"Technicien Logistique\", \n",
    "    \"Gestionnaire de Stock\", \"Expédition\", \"Flotte\", \"Distribution\", \n",
    "    \"Coordination Logistique\",\n",
    "    \n",
    "    # Spanish Keywords (Logistics)\n",
    "    \"Gerente de Logística\", \"Almacén\", \"Técnico en Logística\", \"Transporte\", \n",
    "    \"Aduanas\", \"Coordinador de Logística\", \"Planificador de Logística\", \n",
    "    \"Conductor\", \"Supervisor de Almacén\", \"Despacho\", \"Cadena de Suministro\", \n",
    "    \"Envíos\", \"Inventario\", \"Distribución\"\n",
    "]\n",
    "\n",
    "# Function to map job categories\n",
    "def map_job_category(job_title):\n",
    "    if pd.isna(job_title):\n",
    "        return np.nan  \n",
    "    job_title_lower = job_title.lower() \n",
    "    \n",
    "    if any(keyword.lower() in job_title_lower for keyword in corporate_keywords):\n",
    "        return \"Corporate\"\n",
    "    \n",
    "    elif any(keyword.lower() in job_title_lower for keyword in retail_keywords):\n",
    "        return \"Retail\"\n",
    "    \n",
    "    elif any(keyword.lower() in job_title_lower for keyword in logistics_keywords):\n",
    "        return \"Logistics\"\n",
    "    \n",
    "    return \"Other\"\n",
    "\n",
    "# Apply the function to the 'jobTitle.text' column to create 'job_category' column\n",
    "glassdoor['department'] = glassdoor['jobTitle.text'].apply(map_job_category)"
   ]
  },
  {
   "cell_type": "markdown",
   "metadata": {},
   "source": [
    "### Extracting relevant columns, Renaming them and adding the country details "
   ]
  },
  {
   "cell_type": "markdown",
   "metadata": {},
   "source": [
    "When we concatinate Kununu and Glassdoor, the number of columns and the name of the columns must match"
   ]
  },
  {
   "cell_type": "code",
   "execution_count": 93,
   "metadata": {},
   "outputs": [
    {
     "name": "stdout",
     "output_type": "stream",
     "text": [
      "(1872, 13)\n",
      "(607, 14)\n"
     ]
    }
   ],
   "source": [
    "glassdoor = glassdoor[['reviewId', 'date', 'year', 'ratingOverall', 'position', 'position_code', 'department', 'pros_translated', 'cons_translated', 'advice_translated', 'summary_translated']]\n",
    "glassdoor = glassdoor.rename(columns={'reviewId': 'uuid','ratingOverall': 'rating', 'pros_translated': 'pros', 'cons_translated': 'cons', 'advice_translated': 'suggestion'})\n",
    "glassdoor['uuid'] = glassdoor['uuid'].astype(str)\n",
    "glassdoor=pd.merge(glassdoor, country[['uuid','country']], on='uuid', how='left')\n",
    "glassdoor['file'] = 'glassdoor'\n",
    "print(glassdoor.shape)\n",
    "\n",
    "kununu = kununu[['uuid', 'date','year', 'score', 'position','position_code', 'department', 'pros', 'cons', 'suggestion', 'ratings_translated', 'trainee']]\n",
    "kununu = kununu.rename(columns={'score': 'rating'})\n",
    "kununu=pd.merge(kununu, country[['uuid','country']], on='uuid', how='left')\n",
    "kununu['file'] = 'kununu'\n",
    "print(kununu.shape)"
   ]
  },
  {
   "cell_type": "markdown",
   "metadata": {},
   "source": [
    "ratings_translated feature in Kununu is a dictionary that contains category-wise rating and reviews like atmoshphere, team, etc.\n",
    "Extracting this info and storing in concatenated_ratings"
   ]
  },
  {
   "cell_type": "code",
   "execution_count": 94,
   "metadata": {},
   "outputs": [],
   "source": [
    "# Function to concatenate 'id' and 'text', removing the 'apprenticeship' prefix when applicable\n",
    "def concatenate_text_from_dicts(row, is_trainee):\n",
    "    # Parse the list of dictionaries from the row\n",
    "    dictionaries = eval(row)\n",
    "    \n",
    "    concatenated_text = []\n",
    "    \n",
    "    for d in dictionaries:\n",
    "        if 'id' in d and 'text' in d and d.get('text') is not None:\n",
    "            # If trainee is present, remove 'apprenticeship' prefix from 'id'\n",
    "            id_value = d['id'].replace('apprenticeship', '') if is_trainee else d['id']\n",
    "            concatenated_text.append(f\"{id_value}: {d['text']}\")\n",
    "    \n",
    "    return ', '.join(concatenated_text)\n",
    "\n",
    "# Apply the function to process 'ratings_translated' and check the 'trainee' column for each row\n",
    "kununu['concatenated_ratings'] = kununu.apply(\n",
    "    lambda row: concatenate_text_from_dicts(row['ratings_translated'], pd.notna(row['trainee'])), axis=1\n",
    ")\n"
   ]
  },
  {
   "cell_type": "markdown",
   "metadata": {},
   "source": [
    "### Merging and outputing to CSV"
   ]
  },
  {
   "cell_type": "code",
   "execution_count": 95,
   "metadata": {},
   "outputs": [
    {
     "data": {
      "text/plain": [
       "(2479, 15)"
      ]
     },
     "execution_count": 95,
     "metadata": {},
     "output_type": "execute_result"
    }
   ],
   "source": [
    "kununu.drop(columns='trainee', inplace= True)\n",
    "reviews_merged = pd.concat([kununu, glassdoor], axis=0)\n",
    "reviews_merged.shape"
   ]
  },
  {
   "cell_type": "code",
   "execution_count": 97,
   "metadata": {},
   "outputs": [
    {
     "name": "stdout",
     "output_type": "stream",
     "text": [
      "(2449, 15)\n"
     ]
    }
   ],
   "source": [
    "reviews_merged = reviews_merged.drop_duplicates(subset='uuid', keep='first')\n",
    "print(reviews_merged.shape)\n",
    "reviews_merged.to_csv('reviews_merged.csv', index=False)"
   ]
  }
 ],
 "metadata": {
  "kernelspec": {
   "display_name": "base",
   "language": "python",
   "name": "python3"
  },
  "language_info": {
   "codemirror_mode": {
    "name": "ipython",
    "version": 3
   },
   "file_extension": ".py",
   "mimetype": "text/x-python",
   "name": "python",
   "nbconvert_exporter": "python",
   "pygments_lexer": "ipython3",
   "version": "3.11.4"
  }
 },
 "nbformat": 4,
 "nbformat_minor": 2
}
