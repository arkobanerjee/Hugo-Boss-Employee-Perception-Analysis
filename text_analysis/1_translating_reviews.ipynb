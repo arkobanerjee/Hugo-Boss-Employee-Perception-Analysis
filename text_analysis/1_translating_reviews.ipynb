{
 "cells": [
  {
   "cell_type": "markdown",
   "metadata": {},
   "source": [
    "# Translating textual attributes of the reviews\n",
    "-------------------\n",
    "\n",
    "> <i>Description: In this notebook, we create an excel file with the translated necessary textual data from the scraped reviews</i>\n",
    "\n",
    "We will use this file to further classify texts into categories, define sentiment and conduct our analysis.\n",
    "\n",
    "Input Files: \n",
    "1) Glassdoor_reviews_gathered.csv\n",
    "2) Kununu_reviews_gathered.csv\n",
    "\n",
    "Output:\n",
    "1) Glassdoor_reviews_translated.xlsx\n",
    "2) Kununu_reviews_translated.xlsx\n",
    "\n",
    "Model:  \n",
    "\n",
    "We used the **Google Translator model** via the **deep-translator** library. This model offers high accuracy in language detection and translation, capturing context and linguistic nuances effectively. By setting the source language to `'auto'`, the model automatically detects various languages."
   ]
  },
  {
   "cell_type": "code",
   "execution_count": 1,
   "metadata": {},
   "outputs": [],
   "source": [
    "import numpy as np \n",
    "import pandas as pd\n",
    "from deep_translator import GoogleTranslator\n",
    "from deep_translator.exceptions import NotValidPayload\n",
    "import ast"
   ]
  },
  {
   "cell_type": "markdown",
   "metadata": {},
   "source": [
    "* Glassdoor_reviews_gathered.csv is a result of scrapping reviews from Glassdoor website. "
   ]
  },
  {
   "cell_type": "code",
   "execution_count": null,
   "metadata": {},
   "outputs": [],
   "source": [
    "# Loading Glassdoor df for translation\n",
    "df = pd.read_csv('../Initial_data/Glassdoor_reviews_gathered.csv')\n",
    "print(df.head(5))\n",
    "# To see which columns can contain text:\n",
    "print(df.columns)"
   ]
  },
  {
   "cell_type": "code",
   "execution_count": null,
   "metadata": {},
   "outputs": [],
   "source": [
    "# Function to detect and translate text to English\n",
    "def translate_text(text):\n",
    "    \"\"\"\n",
    "    Detects the language of the input text and translates it to English.\n",
    "\n",
    "    Parameters:\n",
    "    - text (str): The input text to be translated, typically from a text column in a DataFrame.\n",
    "\n",
    "    Returns:\n",
    "    - str: The translated text in English if successful.\n",
    "    - None: If the input text is invalid or translation fails (e.g., empty string or unsupported language).\n",
    "\n",
    "    Exceptions:\n",
    "    - NotValidPayload: Catches this exception if the input text is invalid or if there is an issue with the translation process.\n",
    "    \"\"\"\n",
    "    try:\n",
    "        # Using GoogleTranslator to auto-detect the language and translate to English\n",
    "        translated_text = GoogleTranslator(source='auto', target='en').translate(text)\n",
    "        return translated_text\n",
    "    except NotValidPayload:\n",
    "        return None"
   ]
  },
  {
   "cell_type": "code",
   "execution_count": null,
   "metadata": {},
   "outputs": [],
   "source": [
    "# Applying to text columns in Glassdoor df\n",
    "df['advice_translated'] = df['advice'].apply(translate_text)\n",
    "df['cons_translated'] = df['cons'].apply(translate_text)\n",
    "df['pros_translated'] = df['pros'].apply(translate_text)\n",
    "df['summary_translated'] = df['summary'].apply(translate_text)\n",
    "# To see the new columns:\n",
    "print(df.head(5))"
   ]
  },
  {
   "cell_type": "code",
   "execution_count": 7,
   "metadata": {},
   "outputs": [],
   "source": [
    "# Get rid of uneccessary columns\n",
    "df = df.drop(columns=['Unnamed: 0'])\n",
    "# Saving new df file as excel file\n",
    "df.to_excel('Glassdoor_reviews_translated.xlsx')"
   ]
  },
  {
   "cell_type": "markdown",
   "metadata": {},
   "source": [
    "* Kununu_reviews_gathered.csv is a result of scrapping reviews from Kununu website.\n",
    "* Please replace '../data/' with your desired directory"
   ]
  },
  {
   "cell_type": "code",
   "execution_count": null,
   "metadata": {},
   "outputs": [],
   "source": [
    "# Loading Kununu df for translation\n",
    "df = pd.read_csv('../Initial_data/Kununu_reviews_gathered.csv')\n",
    "print(df.head())\n",
    "# To see which columns can contain text:\n",
    "print(df.columns)"
   ]
  },
  {
   "cell_type": "code",
   "execution_count": null,
   "metadata": {},
   "outputs": [],
   "source": [
    "# Function to translate text fields in JSON-like structures (uses translate_text function)\n",
    "def translate_nested_text(row, text_key='text'):\n",
    "    \"\"\"\n",
    "    Translates text fields within JSON-like structures in a DataFrame column.\n",
    "\n",
    "    Parameters:\n",
    "    - row (str): A JSON-like string representing either a list of dictionaries or a single dictionary. \n",
    "                 Each dictionary contains a text field to be translated.\n",
    "    - text_key (str): The key associated with the text field to be translated. Defaults to 'text'.\n",
    "\n",
    "    Returns:\n",
    "    - list or dict: The translated JSON-like structure, with specified text fields translated to English.\n",
    "    - str: Returns the original row if it's NaN or if the translation process fails due to syntax errors.\n",
    "\n",
    "    Exceptions:\n",
    "    - ValueError: Catches this exception if the input string cannot be evaluated to a list or dictionary.\n",
    "    - SyntaxError: Catches this exception for syntax issues within the JSON-like string structure.\n",
    "    \"\"\"\n",
    "    if pd.isna(row):  # If the row is NaN, return the row as is\n",
    "        return row\n",
    "    try:\n",
    "        # Parse the JSON-like string to a Python list of dictionaries or a single dictionary\n",
    "        nested_list = ast.literal_eval(row)\n",
    "        # Check if it's a list of dictionaries or a single dictionary\n",
    "        if isinstance(nested_list, list):\n",
    "            for item in nested_list:\n",
    "                if text_key in item:\n",
    "                    item[text_key] = translate_text(item[text_key])  # Translate the specified text field\n",
    "        elif isinstance(nested_list, dict):\n",
    "            if text_key in nested_list:\n",
    "                nested_list[text_key] = translate_text(nested_list[text_key])  # Translate the specified text field\n",
    "        return nested_list\n",
    "    except (ValueError, SyntaxError):\n",
    "        return row"
   ]
  },
  {
   "cell_type": "code",
   "execution_count": null,
   "metadata": {},
   "outputs": [],
   "source": [
    "# Applying to the Kununu df\n",
    "df['ratings_translated'] = df['ratings'].apply(lambda x: translate_nested_text(x, text_key='text'))\n",
    "df['texts_translated'] = df['texts'].apply(lambda x: translate_nested_text(x, text_key='text'))\n",
    "df['responses_translated'] = df['responses'].apply(lambda x: translate_nested_text(x, text_key='response'))\n",
    "# To explore new columns:\n",
    "print(df.head())"
   ]
  },
  {
   "cell_type": "code",
   "execution_count": 6,
   "metadata": {},
   "outputs": [],
   "source": [
    "# Get rid of uneccessary columns if applicable\n",
    "# df = df.drop(columns=['...'])\n",
    "# Saving new df file as excel file\n",
    "df.to_excel('Kununu_reviews_translated.xlsx')"
   ]
  },
  {
   "cell_type": "markdown",
   "metadata": {},
   "source": [
    "### End of the notebook"
   ]
  }
 ],
 "metadata": {
  "kernelspec": {
   "display_name": "venv",
   "language": "python",
   "name": "python3"
  },
  "language_info": {
   "codemirror_mode": {
    "name": "ipython",
    "version": 3
   },
   "file_extension": ".py",
   "mimetype": "text/x-python",
   "name": "python",
   "nbconvert_exporter": "python",
   "pygments_lexer": "ipython3",
   "version": "3.9.13"
  }
 },
 "nbformat": 4,
 "nbformat_minor": 2
}
